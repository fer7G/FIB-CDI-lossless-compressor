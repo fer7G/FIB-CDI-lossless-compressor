{
 "cells": [
  {
   "cell_type": "markdown",
   "id": "c077e832",
   "metadata": {},
   "source": [
    "## Extended Algorithm Testing"
   ]
  },
  {
   "cell_type": "code",
   "execution_count": 4,
   "id": "421eebe0",
   "metadata": {},
   "outputs": [
    {
     "ename": "KeyboardInterrupt",
     "evalue": "",
     "output_type": "error",
     "traceback": [
      "\u001b[31m---------------------------------------------------------------------------\u001b[39m",
      "\u001b[31mKeyboardInterrupt\u001b[39m                         Traceback (most recent call last)",
      "\u001b[36mCell\u001b[39m\u001b[36m \u001b[39m\u001b[32mIn[4]\u001b[39m\u001b[32m, line 76\u001b[39m\n\u001b[32m     72\u001b[39m     plt.show()\n\u001b[32m     75\u001b[39m \u001b[38;5;28;01mif\u001b[39;00m \u001b[34m__name__\u001b[39m == \u001b[33m'\u001b[39m\u001b[33m__main__\u001b[39m\u001b[33m'\u001b[39m:\n\u001b[32m---> \u001b[39m\u001b[32m76\u001b[39m     \u001b[43mmain\u001b[49m\u001b[43m(\u001b[49m\u001b[43m)\u001b[49m\n",
      "\u001b[36mCell\u001b[39m\u001b[36m \u001b[39m\u001b[32mIn[4]\u001b[39m\u001b[32m, line 39\u001b[39m, in \u001b[36mmain\u001b[39m\u001b[34m()\u001b[39m\n\u001b[32m     37\u001b[39m \u001b[38;5;66;03m# Probar ficheros originales\u001b[39;00m\n\u001b[32m     38\u001b[39m \u001b[38;5;28;01mfor\u001b[39;00m fpath \u001b[38;5;129;01min\u001b[39;00m original_files:\n\u001b[32m---> \u001b[39m\u001b[32m39\u001b[39m     r = \u001b[43mcompression_ratio\u001b[49m\u001b[43m(\u001b[49m\u001b[43mcomp\u001b[49m\u001b[43m,\u001b[49m\u001b[43m \u001b[49m\u001b[43mfpath\u001b[49m\u001b[43m)\u001b[49m\n\u001b[32m     40\u001b[39m     labels.append(os.path.basename(fpath))\n\u001b[32m     41\u001b[39m     ratios.append(r)\n",
      "\u001b[36mCell\u001b[39m\u001b[36m \u001b[39m\u001b[32mIn[4]\u001b[39m\u001b[32m, line 10\u001b[39m, in \u001b[36mcompression_ratio\u001b[39m\u001b[34m(compressor, infile_path)\u001b[39m\n\u001b[32m      8\u001b[39m comp_file = infile_path + \u001b[33m'\u001b[39m\u001b[33m.bin\u001b[39m\u001b[33m'\u001b[39m\n\u001b[32m      9\u001b[39m \u001b[38;5;66;03m# Compress and measure sizes\u001b[39;00m\n\u001b[32m---> \u001b[39m\u001b[32m10\u001b[39m \u001b[43mcompressor\u001b[49m\u001b[43m.\u001b[49m\u001b[43mcompress_file\u001b[49m\u001b[43m(\u001b[49m\u001b[43minfile_path\u001b[49m\u001b[43m,\u001b[49m\u001b[43m \u001b[49m\u001b[43mcomp_file\u001b[49m\u001b[43m)\u001b[49m\n\u001b[32m     11\u001b[39m size_orig = os.path.getsize(infile_path)\n\u001b[32m     12\u001b[39m size_comp = os.path.getsize(comp_file)\n",
      "\u001b[36mFile \u001b[39m\u001b[32m~/Desktop/UPC/CDI/PracticaCDI/Compressor.py:96\u001b[39m, in \u001b[36mGolombRiceCompressor.compress_file\u001b[39m\u001b[34m(self, infile_path, outfile_path)\u001b[39m\n\u001b[32m     93\u001b[39m num_lines = \u001b[38;5;28mlen\u001b[39m(line_breaks)\n\u001b[32m     95\u001b[39m \u001b[38;5;66;03m# Delta coding\u001b[39;00m\n\u001b[32m---> \u001b[39m\u001b[32m96\u001b[39m deltas = [all_heights[\u001b[32m0\u001b[39m]] + [all_heights[i] - all_heights[i-\u001b[32m1\u001b[39m] \u001b[38;5;28;01mfor\u001b[39;00m i \u001b[38;5;129;01min\u001b[39;00m \u001b[38;5;28mrange\u001b[39m(\u001b[32m1\u001b[39m, n)]\n\u001b[32m     98\u001b[39m \u001b[38;5;66;03m# ZigZag encoding\u001b[39;00m\n\u001b[32m     99\u001b[39m zs = [\u001b[38;5;28mself\u001b[39m.zigzag_encode(d) \u001b[38;5;28;01mfor\u001b[39;00m d \u001b[38;5;129;01min\u001b[39;00m deltas]\n",
      "\u001b[31mKeyboardInterrupt\u001b[39m: "
     ]
    }
   ],
   "source": [
    "import os\n",
    "import matplotlib.pyplot as plt\n",
    "from Compressor import GolombRiceCompressor\n",
    "from InputFileGenerator import InputFileGenerator\n",
    "\n",
    "\n",
    "def compression_ratio(compressor, infile_path):\n",
    "    comp_file = infile_path + '.bin'\n",
    "    # Compress and measure sizes\n",
    "    compressor.compress_file(infile_path, comp_file)\n",
    "    size_orig = os.path.getsize(infile_path)\n",
    "    size_comp = os.path.getsize(comp_file)\n",
    "    # Clean up compressed file\n",
    "    os.remove(comp_file)\n",
    "    return size_orig / size_comp\n",
    "\n",
    "\n",
    "def count_values(file_path):\n",
    "    with open(file_path, 'r') as f:\n",
    "        tokens = f.read().split()\n",
    "    return len(tokens)\n",
    "\n",
    "\n",
    "def main():\n",
    "    # Inicialización\n",
    "    comp = GolombRiceCompressor()\n",
    "    gen = InputFileGenerator(line_length=1000)\n",
    "\n",
    "    # Archivos originales\n",
    "    original_files = ['files/file11111.txt', 'files/file22222.txt']\n",
    "    # Tomamos N del primer fichero para las simulaciones\n",
    "    N = count_values(original_files[0])\n",
    "\n",
    "    labels = []\n",
    "    ratios = []\n",
    "\n",
    "    # Probar ficheros originales\n",
    "    for fpath in original_files:\n",
    "        r = compression_ratio(comp, fpath)\n",
    "        labels.append(os.path.basename(fpath))\n",
    "        ratios.append(r)\n",
    "\n",
    "    # Métodos de generación sintética\n",
    "    methods = {\n",
    "        'random_walk': lambda path: gen.generate_random_walk(path, N, sigma=1.0),\n",
    "        'noise':       lambda path: gen.generate_noise(path, N, low=0, high=10000),\n",
    "        'periodic':    lambda path: gen.generate_periodic(path, N, amplitude=2000, periods=5, offset=5000),\n",
    "        'mixed':       lambda path: gen.generate_mixed(path, N),\n",
    "    }\n",
    "\n",
    "    # Para cada método, generar 5 ficheros, calcular ratio y promediar\n",
    "    for name, generate in methods.items():\n",
    "        rs = []\n",
    "        for i in range(5):\n",
    "            gen_path = f'files/{name}_{i}.txt'\n",
    "            generate(gen_path)\n",
    "            rs.append(compression_ratio(comp, gen_path))\n",
    "            os.remove(gen_path)\n",
    "        mean_r = sum(rs) / len(rs)\n",
    "        labels.append(name)\n",
    "        ratios.append(mean_r)\n",
    "\n",
    "    # Plot de ratios\n",
    "    plt.figure()\n",
    "    plt.bar(labels, ratios)\n",
    "    plt.ylabel('Compression Ratio')\n",
    "    plt.xticks(rotation=45)\n",
    "    plt.title('Compression Ratios: Original vs Synthetic')\n",
    "    plt.tight_layout()\n",
    "    # Guardar figura\n",
    "    plt.savefig('compression_ratios.png')\n",
    "    plt.show()\n",
    "\n",
    "\n",
    "if __name__ == '__main__':\n",
    "    main()\n"
   ]
  }
 ],
 "metadata": {
  "kernelspec": {
   "display_name": ".venv",
   "language": "python",
   "name": "python3"
  },
  "language_info": {
   "codemirror_mode": {
    "name": "ipython",
    "version": 3
   },
   "file_extension": ".py",
   "mimetype": "text/x-python",
   "name": "python",
   "nbconvert_exporter": "python",
   "pygments_lexer": "ipython3",
   "version": "3.13.0"
  }
 },
 "nbformat": 4,
 "nbformat_minor": 5
}
